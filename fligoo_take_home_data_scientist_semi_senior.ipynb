{
 "cells": [
  {
   "attachments": {
    "new-logo-32.png": {
     "image/png": "[encoded data removed]"
    }
   },
   "cell_type": "markdown",
   "metadata": {},
   "source": [
    "![new-logo-32.png](attachment:new-logo-32.png)"
   ]
  },
  {
   "cell_type": "markdown",
   "metadata": {},
   "source": [
    "<hr>\n",
    "<p style=\"font-size:40px;text-align:center\">Take Home - Data Science</p>\n",
    "<hr>"
   ]
  },
  {
   "cell_type": "markdown",
   "metadata": {},
   "source": [
    "# The Hotel Bookings Data\n",
    "Let’s use hotel bookings data from [Antonio, Almeida, and Nunes (2019)](https://www.sciencedirect.com/science/article/pii/S2352340918315191?via%3Dihub) to predict which hotel stays included children and/or babies, based on the other characteristics of the stays such as which hotel the guests stay at, how much they pay, etc.\n",
    "\n",
    "<img src=\"https://s3-us-west-2.amazonaws.com/fligoo.data-science/TechInterviews/HotelBookings/header.png\"/>\n",
    "\n",
    "One of the hotels (H1) is a resort hotel and the other is a city hotel (H2). Both datasets share the same structure, with 23 variables describing the 19248 observations of H1 and 30752 observations of H2. Each observation represents a hotel booking. Both datasets comprehend bookings due to arrive between the 1st of July of 2015 and the 31st of August 2017, including bookings that effectively arrived and bookings that were canceled. Since this is hotel real data, all data elements pertaining hotel or custumer identification were deleted.\n",
    "\n",
    "**Take-Home Goals**\n",
    "\n",
    "#### Part 1\n",
    "During **Part I**, you should perform an Exploratory Data Analysis highlighting key findings:\n",
    "  - Data Quality Check: You must check the quality of the given dataset to make an assessment of how appropriate it is for later Data Science tasks. Propose a set of corrective actions over the data if any.\n",
    "  - Report insights and conclusions: Describe the results obtained during the exploratory analysis and provide conclusions from a business perspective, supported by plots / tables / metrics.\n",
    "  - **Expected**:\n",
    "    - Make at least 10 plots with any ploting library (plotly, matplotlib, seaborn, etc.)\n",
    "    - Write down the conclusions, in a clear manner, of every plot in this notebook\n",
    "\n",
    "#### Part 2\n",
    "In **Part II** you should define and train a model to predict which actual hotel stays included children/babies, and which did not:\n",
    "  - **Feature extraction:** Indicate some possible candidates of features that could properly describe the hotels, either from the given columns or from their transformations.\n",
    "      - **Expected**:\n",
    "        - Create **one** scikit-learn pipeline inside a file called `pipelines.py`\n",
    "        - Create at least **three** scikit-learn transformers inside a file called `transformers.py` and use them inside the pipeline from previous step. This transformers should add new features or clean the original dataframe of this take-home\n",
    "          - Feature example: Compute \"total_nights\" feature. This is the sum of `stays_in_week_nights` + `stays_in_weekend_nights`\n",
    "          - Cleaning example: Transform string values. `'0'` to int type `0` \n",
    "        - Import pipeline and run the transformations inside this notebook\n",
    "\n",
    "  - **Machine Learning modeling:** Fit models with the given data. Pay attention to the entire process to avoid missing any crucial step. You could use the `children` column as target.\n",
    "    - **Expected**:\n",
    "      - Use the dataset with the new features generated to train *at least* **three** different machine learning models and generate metrics about their performance.\n",
    "    \n",
    "#### Part 3\n",
    "Finally, on **Part III** you should present the key findings, conclusions and results to non-technical stakeholders.\n",
    "  - **Expected**:\n",
    "    - Create a summary of all the findings in part 1\n",
    "    - Create an explanation of the features added in part 2\n",
    "    - Create a summary of the model metrics\n",
    "    - These explanations should be at high level and understood by a non-technical person\n",
    "    - You can add all the summaries and explanations at the end of this notebook, it can be done in markdown format or any other external resource like a ppt presentation, pdf document, etc. Whatever works best for you!\n",
    "\n",
    " \n",
    "**Requirements**\n",
    "- Python 3.x & Pandas 1.x\n",
    "- Paying attention to the details and narrative is far way more important than extensive development.\n",
    "- Once you complete the assessment, please send a ZIP file of the folder with all the resources used in this work (e.g. Jupyter notebook, Python scripts, text files, images, etc) or share the repository link.\n",
    "- Virtualenv, requirements or Conda environment for isolation.\n",
    "- Have a final meeting with the team to discuss the work done in this notebook and answer the questions that could arise.\n",
    "- Finally, but most important: Have fun!\n",
    "\n",
    "**Nice to have aspects**\n",
    "- Code versioning with Git (you are free to publish it on your own Github/Bitbucket account!).\n",
    "- Show proficiency in Python: By showing good practices in the structure and documentation, usage of several programming paradigms (e.g. imperative, OOP, functional), etc.\n",
    "- Shap Model explanability: explain feature importance with the use of shapley values"
   ]
  },
  {
   "cell_type": "markdown",
   "metadata": {},
   "source": [
    "## Part I - Exploratory Data Analisys"
   ]
  },
  {
   "cell_type": "code",
   "execution_count": null,
   "metadata": {},
   "outputs": [],
   "source": [
    "import pandas as pd\n",
    "# from pipelines import <your_pipeline_name>\n",
    "\n",
    "hotels = pd.read_csv('https://s3-us-west-2.amazonaws.com/fligoo.data-science/TechInterviews/HotelBookings/hotels.csv')"
   ]
  },
  {
   "cell_type": "code",
   "execution_count": null,
   "metadata": {},
   "outputs": [],
   "source": [
    "#\n",
    "# Perform your exploratory data analysis...\n",
    "#"
   ]
  },
  {
   "cell_type": "markdown",
   "metadata": {},
   "source": [
    "## Part II - Modeling\n",
    "\n",
    "We will build the best model to predict which actual hotel stays included children/babies, and which did not:"
   ]
  },
  {
   "cell_type": "code",
   "execution_count": null,
   "metadata": {},
   "outputs": [],
   "source": [
    "#\n",
    "# Develop Machine/Statistical Learning models to predict the target variable...\n",
    "#"
   ]
  },
  {
   "cell_type": "markdown",
   "metadata": {},
   "source": [
    "## Part III - Results & Conclusions"
   ]
  },
  {
   "cell_type": "code",
   "execution_count": null,
   "metadata": {},
   "outputs": [],
   "source": [
    "#\n",
    "# List your key insights / findings and conclusions...\n",
    "#"
   ]
  }
 ],
 "metadata": {
  "kernelspec": {
   "display_name": "Python 3 (ipykernel)",
   "language": "python",
   "name": "python3"
  },
  "language_info": {
   "codemirror_mode": {
    "name": "ipython",
    "version": 3
   },
   "file_extension": ".py",
   "mimetype": "text/x-python",
   "name": "python",
   "nbconvert_exporter": "python",
   "pygments_lexer": "ipython3",
   "version": "3.10.0"
  }
 },
 "nbformat": 4,
 "nbformat_minor": 4
}
